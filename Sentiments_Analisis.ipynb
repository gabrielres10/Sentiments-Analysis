{
  "cells": [
    {
      "cell_type": "markdown",
      "source": [
        "  # Sentiment Analysis Project Contributors\n",
        "\n",
        "## Project Overview\n",
        "\n",
        "This sentiment analysis project aims to leverage the power of neural networks for analyzing sentiments in textual data. Three sets of reviews from three well known platforms will be used to create a predictive model with the basis of neural networks.\n",
        "\n",
        "---\n",
        "\n",
        "### Sebastián Escobar\n",
        "\n",
        "\n",
        "**Code:** A00374994\n",
        "\n",
        "\n",
        "---\n",
        "\n",
        "### Juan González\n",
        "\n",
        "\n",
        "**Code:** A00378625\n",
        "\n",
        "\n",
        "---\n",
        "\n",
        "### Gabriel Restrepo\n",
        "\n",
        "\n",
        "\n",
        "**Code:** A00377741\n",
        "\n",
        "\n",
        "---\n",
        "\n",
        "This collaborative effort aims to develop a robust sentiment analysis system capable of providing valuable insights into the emotions and opinions expressed in textual data. The project focuses on leveraging neural networks to enhance the accuracy and efficiency of sentiment classification.\n",
        "\n",
        "---"
      ],
      "metadata": {
        "id": "a_Pf3Z1Gg0KV"
      }
    },
    {
      "cell_type": "markdown",
      "source": [
        "## Required Library Versions"
      ],
      "metadata": {
        "id": "BYQjl6ZGjIVM"
      }
    },
    {
      "cell_type": "code",
      "execution_count": null,
      "metadata": {
        "colab": {
          "base_uri": "https://localhost:8080/",
          "height": 1000
        },
        "id": "kJoDrvj7xZwV",
        "outputId": "b6677098-047e-4106-b2e3-6e14d140d216"
      },
      "outputs": [
        {
          "output_type": "stream",
          "name": "stdout",
          "text": [
            "Collecting pandas==2.1.3\n",
            "  Downloading pandas-2.1.3-cp310-cp310-manylinux_2_17_x86_64.manylinux2014_x86_64.whl (12.3 MB)\n",
            "\u001b[2K     \u001b[90m━━━━━━━━━━━━━━━━━━━━━━━━━━━━━━━━━━━━━━━━\u001b[0m \u001b[32m12.3/12.3 MB\u001b[0m \u001b[31m89.1 MB/s\u001b[0m eta \u001b[36m0:00:00\u001b[0m\n",
            "\u001b[?25hRequirement already satisfied: numpy<2,>=1.22.4 in /usr/local/lib/python3.10/dist-packages (from pandas==2.1.3) (1.23.5)\n",
            "Requirement already satisfied: python-dateutil>=2.8.2 in /usr/local/lib/python3.10/dist-packages (from pandas==2.1.3) (2.8.2)\n",
            "Requirement already satisfied: pytz>=2020.1 in /usr/local/lib/python3.10/dist-packages (from pandas==2.1.3) (2023.3.post1)\n",
            "Collecting tzdata>=2022.1 (from pandas==2.1.3)\n",
            "  Downloading tzdata-2023.3-py2.py3-none-any.whl (341 kB)\n",
            "\u001b[2K     \u001b[90m━━━━━━━━━━━━━━━━━━━━━━━━━━━━━━━━━━━━━━━━\u001b[0m \u001b[32m341.8/341.8 kB\u001b[0m \u001b[31m25.2 MB/s\u001b[0m eta \u001b[36m0:00:00\u001b[0m\n",
            "\u001b[?25hRequirement already satisfied: six>=1.5 in /usr/local/lib/python3.10/dist-packages (from python-dateutil>=2.8.2->pandas==2.1.3) (1.16.0)\n",
            "Installing collected packages: tzdata, pandas\n",
            "  Attempting uninstall: pandas\n",
            "    Found existing installation: pandas 1.5.3\n",
            "    Uninstalling pandas-1.5.3:\n",
            "      Successfully uninstalled pandas-1.5.3\n",
            "\u001b[31mERROR: pip's dependency resolver does not currently take into account all the packages that are installed. This behaviour is the source of the following dependency conflicts.\n",
            "lida 0.0.10 requires fastapi, which is not installed.\n",
            "lida 0.0.10 requires kaleido, which is not installed.\n",
            "lida 0.0.10 requires python-multipart, which is not installed.\n",
            "lida 0.0.10 requires uvicorn, which is not installed.\n",
            "google-colab 1.0.0 requires pandas==1.5.3, but you have pandas 2.1.3 which is incompatible.\u001b[0m\u001b[31m\n",
            "\u001b[0mSuccessfully installed pandas-2.1.3 tzdata-2023.3\n",
            "Collecting nltk==3.6.5\n",
            "  Downloading nltk-3.6.5-py3-none-any.whl (1.5 MB)\n",
            "\u001b[2K     \u001b[90m━━━━━━━━━━━━━━━━━━━━━━━━━━━━━━━━━━━━━━━━\u001b[0m \u001b[32m1.5/1.5 MB\u001b[0m \u001b[31m17.6 MB/s\u001b[0m eta \u001b[36m0:00:00\u001b[0m\n",
            "\u001b[?25hRequirement already satisfied: click in /usr/local/lib/python3.10/dist-packages (from nltk==3.6.5) (8.1.7)\n",
            "Requirement already satisfied: joblib in /usr/local/lib/python3.10/dist-packages (from nltk==3.6.5) (1.3.2)\n",
            "Requirement already satisfied: regex>=2021.8.3 in /usr/local/lib/python3.10/dist-packages (from nltk==3.6.5) (2023.6.3)\n",
            "Requirement already satisfied: tqdm in /usr/local/lib/python3.10/dist-packages (from nltk==3.6.5) (4.66.1)\n",
            "Installing collected packages: nltk\n",
            "  Attempting uninstall: nltk\n",
            "    Found existing installation: nltk 3.8.1\n",
            "    Uninstalling nltk-3.8.1:\n",
            "      Successfully uninstalled nltk-3.8.1\n",
            "Successfully installed nltk-3.6.5\n"
          ]
        },
        {
          "output_type": "display_data",
          "data": {
            "application/vnd.colab-display-data+json": {
              "pip_warning": {
                "packages": [
                  "nltk"
                ]
              }
            }
          },
          "metadata": {}
        },
        {
          "output_type": "stream",
          "name": "stdout",
          "text": [
            "Collecting scikit_learn==1.3.2\n",
            "  Downloading scikit_learn-1.3.2-cp310-cp310-manylinux_2_17_x86_64.manylinux2014_x86_64.whl (10.8 MB)\n",
            "\u001b[2K     \u001b[90m━━━━━━━━━━━━━━━━━━━━━━━━━━━━━━━━━━━━━━━━\u001b[0m \u001b[32m10.8/10.8 MB\u001b[0m \u001b[31m70.2 MB/s\u001b[0m eta \u001b[36m0:00:00\u001b[0m\n",
            "\u001b[?25hRequirement already satisfied: numpy<2.0,>=1.17.3 in /usr/local/lib/python3.10/dist-packages (from scikit_learn==1.3.2) (1.23.5)\n",
            "Requirement already satisfied: scipy>=1.5.0 in /usr/local/lib/python3.10/dist-packages (from scikit_learn==1.3.2) (1.11.3)\n",
            "Requirement already satisfied: joblib>=1.1.1 in /usr/local/lib/python3.10/dist-packages (from scikit_learn==1.3.2) (1.3.2)\n",
            "Requirement already satisfied: threadpoolctl>=2.0.0 in /usr/local/lib/python3.10/dist-packages (from scikit_learn==1.3.2) (3.2.0)\n",
            "Installing collected packages: scikit_learn\n",
            "  Attempting uninstall: scikit_learn\n",
            "    Found existing installation: scikit-learn 1.2.2\n",
            "    Uninstalling scikit-learn-1.2.2:\n",
            "      Successfully uninstalled scikit-learn-1.2.2\n",
            "Successfully installed scikit_learn-1.3.2\n"
          ]
        },
        {
          "output_type": "display_data",
          "data": {
            "application/vnd.colab-display-data+json": {
              "pip_warning": {
                "packages": [
                  "sklearn"
                ]
              }
            }
          },
          "metadata": {}
        },
        {
          "output_type": "stream",
          "name": "stdout",
          "text": [
            "Collecting scipy==1.11.4\n",
            "  Downloading scipy-1.11.4-cp310-cp310-manylinux_2_17_x86_64.manylinux2014_x86_64.whl (36.4 MB)\n",
            "\u001b[2K     \u001b[90m━━━━━━━━━━━━━━━━━━━━━━━━━━━━━━━━━━━━━━━━\u001b[0m \u001b[32m36.4/36.4 MB\u001b[0m \u001b[31m36.5 MB/s\u001b[0m eta \u001b[36m0:00:00\u001b[0m\n",
            "\u001b[?25hRequirement already satisfied: numpy<1.28.0,>=1.21.6 in /usr/local/lib/python3.10/dist-packages (from scipy==1.11.4) (1.23.5)\n",
            "Installing collected packages: scipy\n",
            "  Attempting uninstall: scipy\n",
            "    Found existing installation: scipy 1.11.3\n",
            "    Uninstalling scipy-1.11.3:\n",
            "      Successfully uninstalled scipy-1.11.3\n",
            "\u001b[31mERROR: pip's dependency resolver does not currently take into account all the packages that are installed. This behaviour is the source of the following dependency conflicts.\n",
            "lida 0.0.10 requires fastapi, which is not installed.\n",
            "lida 0.0.10 requires kaleido, which is not installed.\n",
            "lida 0.0.10 requires python-multipart, which is not installed.\n",
            "lida 0.0.10 requires uvicorn, which is not installed.\u001b[0m\u001b[31m\n",
            "\u001b[0mSuccessfully installed scipy-1.11.4\n",
            "Requirement already satisfied: threadpoolctl==3.2.0 in /usr/local/lib/python3.10/dist-packages (3.2.0)\n",
            "Collecting tensorflow==2.8.0\n",
            "  Downloading tensorflow-2.8.0-cp310-cp310-manylinux2010_x86_64.whl (497.6 MB)\n",
            "\u001b[2K     \u001b[90m━━━━━━━━━━━━━━━━━━━━━━━━━━━━━━━━━━━━━━━━\u001b[0m \u001b[32m497.6/497.6 MB\u001b[0m \u001b[31m3.2 MB/s\u001b[0m eta \u001b[36m0:00:00\u001b[0m\n",
            "\u001b[?25hRequirement already satisfied: absl-py>=0.4.0 in /usr/local/lib/python3.10/dist-packages (from tensorflow==2.8.0) (1.4.0)\n",
            "Requirement already satisfied: astunparse>=1.6.0 in /usr/local/lib/python3.10/dist-packages (from tensorflow==2.8.0) (1.6.3)\n",
            "Requirement already satisfied: flatbuffers>=1.12 in /usr/local/lib/python3.10/dist-packages (from tensorflow==2.8.0) (23.5.26)\n",
            "Requirement already satisfied: gast>=0.2.1 in /usr/local/lib/python3.10/dist-packages (from tensorflow==2.8.0) (0.5.4)\n",
            "Requirement already satisfied: google-pasta>=0.1.1 in /usr/local/lib/python3.10/dist-packages (from tensorflow==2.8.0) (0.2.0)\n",
            "Requirement already satisfied: h5py>=2.9.0 in /usr/local/lib/python3.10/dist-packages (from tensorflow==2.8.0) (3.9.0)\n",
            "Collecting keras-preprocessing>=1.1.1 (from tensorflow==2.8.0)\n",
            "  Downloading Keras_Preprocessing-1.1.2-py2.py3-none-any.whl (42 kB)\n",
            "\u001b[2K     \u001b[90m━━━━━━━━━━━━━━━━━━━━━━━━━━━━━━━━━━━━━━━━\u001b[0m \u001b[32m42.6/42.6 kB\u001b[0m \u001b[31m4.8 MB/s\u001b[0m eta \u001b[36m0:00:00\u001b[0m\n",
            "\u001b[?25hRequirement already satisfied: libclang>=9.0.1 in /usr/local/lib/python3.10/dist-packages (from tensorflow==2.8.0) (16.0.6)\n",
            "Requirement already satisfied: numpy>=1.20 in /usr/local/lib/python3.10/dist-packages (from tensorflow==2.8.0) (1.23.5)\n",
            "Requirement already satisfied: opt-einsum>=2.3.2 in /usr/local/lib/python3.10/dist-packages (from tensorflow==2.8.0) (3.3.0)\n",
            "Requirement already satisfied: protobuf>=3.9.2 in /usr/local/lib/python3.10/dist-packages (from tensorflow==2.8.0) (3.20.3)\n",
            "Requirement already satisfied: setuptools in /usr/local/lib/python3.10/dist-packages (from tensorflow==2.8.0) (67.7.2)\n",
            "Requirement already satisfied: six>=1.12.0 in /usr/local/lib/python3.10/dist-packages (from tensorflow==2.8.0) (1.16.0)\n",
            "Requirement already satisfied: termcolor>=1.1.0 in /usr/local/lib/python3.10/dist-packages (from tensorflow==2.8.0) (2.3.0)\n",
            "Requirement already satisfied: typing-extensions>=3.6.6 in /usr/local/lib/python3.10/dist-packages (from tensorflow==2.8.0) (4.5.0)\n",
            "Requirement already satisfied: wrapt>=1.11.0 in /usr/local/lib/python3.10/dist-packages (from tensorflow==2.8.0) (1.14.1)\n",
            "Collecting tensorboard<2.9,>=2.8 (from tensorflow==2.8.0)\n",
            "  Downloading tensorboard-2.8.0-py3-none-any.whl (5.8 MB)\n",
            "\u001b[2K     \u001b[90m━━━━━━━━━━━━━━━━━━━━━━━━━━━━━━━━━━━━━━━━\u001b[0m \u001b[32m5.8/5.8 MB\u001b[0m \u001b[31m67.2 MB/s\u001b[0m eta \u001b[36m0:00:00\u001b[0m\n",
            "\u001b[?25hCollecting tf-estimator-nightly==2.8.0.dev2021122109 (from tensorflow==2.8.0)\n",
            "  Downloading tf_estimator_nightly-2.8.0.dev2021122109-py2.py3-none-any.whl (462 kB)\n",
            "\u001b[2K     \u001b[90m━━━━━━━━━━━━━━━━━━━━━━━━━━━━━━━━━━━━━━━━\u001b[0m \u001b[32m462.5/462.5 kB\u001b[0m \u001b[31m33.6 MB/s\u001b[0m eta \u001b[36m0:00:00\u001b[0m\n",
            "\u001b[?25hCollecting keras<2.9,>=2.8.0rc0 (from tensorflow==2.8.0)\n",
            "  Downloading keras-2.8.0-py2.py3-none-any.whl (1.4 MB)\n",
            "\u001b[2K     \u001b[90m━━━━━━━━━━━━━━━━━━━━━━━━━━━━━━━━━━━━━━━━\u001b[0m \u001b[32m1.4/1.4 MB\u001b[0m \u001b[31m64.1 MB/s\u001b[0m eta \u001b[36m0:00:00\u001b[0m\n",
            "\u001b[?25hRequirement already satisfied: tensorflow-io-gcs-filesystem>=0.23.1 in /usr/local/lib/python3.10/dist-packages (from tensorflow==2.8.0) (0.34.0)\n",
            "Requirement already satisfied: grpcio<2.0,>=1.24.3 in /usr/local/lib/python3.10/dist-packages (from tensorflow==2.8.0) (1.59.2)\n",
            "Requirement already satisfied: wheel<1.0,>=0.23.0 in /usr/local/lib/python3.10/dist-packages (from astunparse>=1.6.0->tensorflow==2.8.0) (0.41.3)\n",
            "Requirement already satisfied: google-auth<3,>=1.6.3 in /usr/local/lib/python3.10/dist-packages (from tensorboard<2.9,>=2.8->tensorflow==2.8.0) (2.17.3)\n",
            "Collecting google-auth-oauthlib<0.5,>=0.4.1 (from tensorboard<2.9,>=2.8->tensorflow==2.8.0)\n",
            "  Downloading google_auth_oauthlib-0.4.6-py2.py3-none-any.whl (18 kB)\n",
            "Requirement already satisfied: markdown>=2.6.8 in /usr/local/lib/python3.10/dist-packages (from tensorboard<2.9,>=2.8->tensorflow==2.8.0) (3.5.1)\n",
            "Requirement already satisfied: requests<3,>=2.21.0 in /usr/local/lib/python3.10/dist-packages (from tensorboard<2.9,>=2.8->tensorflow==2.8.0) (2.31.0)\n",
            "Collecting tensorboard-data-server<0.7.0,>=0.6.0 (from tensorboard<2.9,>=2.8->tensorflow==2.8.0)\n",
            "  Downloading tensorboard_data_server-0.6.1-py3-none-manylinux2010_x86_64.whl (4.9 MB)\n",
            "\u001b[2K     \u001b[90m━━━━━━━━━━━━━━━━━━━━━━━━━━━━━━━━━━━━━━━━\u001b[0m \u001b[32m4.9/4.9 MB\u001b[0m \u001b[31m65.3 MB/s\u001b[0m eta \u001b[36m0:00:00\u001b[0m\n",
            "\u001b[?25hCollecting tensorboard-plugin-wit>=1.6.0 (from tensorboard<2.9,>=2.8->tensorflow==2.8.0)\n",
            "  Downloading tensorboard_plugin_wit-1.8.1-py3-none-any.whl (781 kB)\n",
            "\u001b[2K     \u001b[90m━━━━━━━━━━━━━━━━━━━━━━━━━━━━━━━━━━━━━━━━\u001b[0m \u001b[32m781.3/781.3 kB\u001b[0m \u001b[31m48.2 MB/s\u001b[0m eta \u001b[36m0:00:00\u001b[0m\n",
            "\u001b[?25hRequirement already satisfied: werkzeug>=0.11.15 in /usr/local/lib/python3.10/dist-packages (from tensorboard<2.9,>=2.8->tensorflow==2.8.0) (3.0.1)\n",
            "Requirement already satisfied: cachetools<6.0,>=2.0.0 in /usr/local/lib/python3.10/dist-packages (from google-auth<3,>=1.6.3->tensorboard<2.9,>=2.8->tensorflow==2.8.0) (5.3.2)\n",
            "Requirement already satisfied: pyasn1-modules>=0.2.1 in /usr/local/lib/python3.10/dist-packages (from google-auth<3,>=1.6.3->tensorboard<2.9,>=2.8->tensorflow==2.8.0) (0.3.0)\n",
            "Requirement already satisfied: rsa<5,>=3.1.4 in /usr/local/lib/python3.10/dist-packages (from google-auth<3,>=1.6.3->tensorboard<2.9,>=2.8->tensorflow==2.8.0) (4.9)\n",
            "Requirement already satisfied: requests-oauthlib>=0.7.0 in /usr/local/lib/python3.10/dist-packages (from google-auth-oauthlib<0.5,>=0.4.1->tensorboard<2.9,>=2.8->tensorflow==2.8.0) (1.3.1)\n",
            "Requirement already satisfied: charset-normalizer<4,>=2 in /usr/local/lib/python3.10/dist-packages (from requests<3,>=2.21.0->tensorboard<2.9,>=2.8->tensorflow==2.8.0) (3.3.2)\n",
            "Requirement already satisfied: idna<4,>=2.5 in /usr/local/lib/python3.10/dist-packages (from requests<3,>=2.21.0->tensorboard<2.9,>=2.8->tensorflow==2.8.0) (3.4)\n",
            "Requirement already satisfied: urllib3<3,>=1.21.1 in /usr/local/lib/python3.10/dist-packages (from requests<3,>=2.21.0->tensorboard<2.9,>=2.8->tensorflow==2.8.0) (2.0.7)\n",
            "Requirement already satisfied: certifi>=2017.4.17 in /usr/local/lib/python3.10/dist-packages (from requests<3,>=2.21.0->tensorboard<2.9,>=2.8->tensorflow==2.8.0) (2023.7.22)\n",
            "Requirement already satisfied: MarkupSafe>=2.1.1 in /usr/local/lib/python3.10/dist-packages (from werkzeug>=0.11.15->tensorboard<2.9,>=2.8->tensorflow==2.8.0) (2.1.3)\n",
            "Requirement already satisfied: pyasn1<0.6.0,>=0.4.6 in /usr/local/lib/python3.10/dist-packages (from pyasn1-modules>=0.2.1->google-auth<3,>=1.6.3->tensorboard<2.9,>=2.8->tensorflow==2.8.0) (0.5.0)\n",
            "Requirement already satisfied: oauthlib>=3.0.0 in /usr/local/lib/python3.10/dist-packages (from requests-oauthlib>=0.7.0->google-auth-oauthlib<0.5,>=0.4.1->tensorboard<2.9,>=2.8->tensorflow==2.8.0) (3.2.2)\n",
            "Installing collected packages: tf-estimator-nightly, tensorboard-plugin-wit, keras, tensorboard-data-server, keras-preprocessing, google-auth-oauthlib, tensorboard, tensorflow\n",
            "  Attempting uninstall: keras\n",
            "    Found existing installation: keras 2.14.0\n",
            "    Uninstalling keras-2.14.0:\n",
            "      Successfully uninstalled keras-2.14.0\n",
            "  Attempting uninstall: tensorboard-data-server\n",
            "    Found existing installation: tensorboard-data-server 0.7.2\n",
            "    Uninstalling tensorboard-data-server-0.7.2:\n",
            "      Successfully uninstalled tensorboard-data-server-0.7.2\n",
            "  Attempting uninstall: google-auth-oauthlib\n",
            "    Found existing installation: google-auth-oauthlib 1.0.0\n",
            "    Uninstalling google-auth-oauthlib-1.0.0:\n",
            "      Successfully uninstalled google-auth-oauthlib-1.0.0\n",
            "  Attempting uninstall: tensorboard\n",
            "    Found existing installation: tensorboard 2.14.1\n",
            "    Uninstalling tensorboard-2.14.1:\n",
            "      Successfully uninstalled tensorboard-2.14.1\n",
            "  Attempting uninstall: tensorflow\n",
            "    Found existing installation: tensorflow 2.14.0\n",
            "    Uninstalling tensorflow-2.14.0:\n",
            "      Successfully uninstalled tensorflow-2.14.0\n",
            "Successfully installed google-auth-oauthlib-0.4.6 keras-2.8.0 keras-preprocessing-1.1.2 tensorboard-2.8.0 tensorboard-data-server-0.6.1 tensorboard-plugin-wit-1.8.1 tensorflow-2.8.0 tf-estimator-nightly-2.8.0.dev2021122109\n"
          ]
        },
        {
          "output_type": "display_data",
          "data": {
            "application/vnd.colab-display-data+json": {
              "pip_warning": {
                "packages": [
                  "keras",
                  "tensorboard",
                  "tensorflow"
                ]
              }
            }
          },
          "metadata": {}
        }
      ],
      "source": [
        "!pip install pandas==2.1.3\n",
        "!pip install nltk==3.6.5\n",
        "!pip install scikit_learn==1.3.2\n",
        "!pip install scipy==1.11.4\n",
        "!pip install threadpoolctl==3.2.0\n",
        "!pip install tensorflow==2.8.0"
      ]
    },
    {
      "cell_type": "markdown",
      "metadata": {
        "id": "SJeB-Cx5PsD7"
      },
      "source": [
        "##Information Gathering and Preprocessing"
      ]
    },
    {
      "cell_type": "markdown",
      "source": [
        "**Introduction to Data Preprocessing before Train-Test Split:**\n",
        "\n",
        "In the realm of machine learning, effective data preprocessing is a crucial step in ensuring the success of predictive models. Before splitting our dataset into training and testing sets, it is imperative to apply preprocessing techniques to enhance the quality and reliability of the data. This process serves several essential purposes:\n",
        "\n",
        "1. **Data Quality Assurance:**\n",
        "   - Detecting and handling missing values, outliers, and anomalies ensures that the dataset is of high quality. This, in turn, prevents potential biases and inaccuracies in the model.\n",
        "\n",
        "2. **Feature Engineering:**\n",
        "   - Transforming raw data into a format suitable for machine learning models is achieved through feature engineering. This involves scaling, normalization, or encoding categorical variables, enabling the model to better understand and learn from the data.\n",
        "\n",
        "3. **Handling Text and Categorical Data:**\n",
        "   - Text and categorical data often require specialized preprocessing, such as tokenization, stemming, or one-hot encoding. These steps convert qualitative information into a numerical format, facilitating model training.\n",
        "\n",
        "4. **Addressing Class Imbalances:**\n",
        "   - In scenarios where classes are imbalanced, preprocessing techniques like oversampling or undersampling can be applied to ensure that the model is exposed to a representative distribution of the target classes.\n",
        "\n",
        "5. **Data Scaling and Normalization:**\n",
        "   - Scaling and normalization of numerical features guarantee that all variables contribute equally to the model's learning process. This step prevents certain features from dominating others based on their scale.\n",
        "\n",
        "6. **Ensuring Model Robustness:**\n",
        "   - Data preprocessing contributes to the overall robustness of the model by reducing the impact of noise and irrelevant information. A well-preprocessed dataset ensures that the model focuses on capturing meaningful patterns.\n",
        "\n",
        "7. **Enhancing Model Generalization:**\n",
        "   - Preprocessing aids in the creation of models that generalize well to unseen data. By addressing common data challenges, such as outliers or skewed distributions, models are better equipped to handle real-world scenarios.\n",
        "\n",
        "In summary, data preprocessing before the train-test split is a critical preparatory phase that ensures the dataset is primed for effective model training and evaluation. It lays the foundation for building robust and reliable machine learning models capable of making accurate predictions on new, unseen data."
      ],
      "metadata": {
        "id": "880jN5FFkjX-"
      }
    },
    {
      "cell_type": "markdown",
      "source": [
        "\n",
        "\n",
        "---\n",
        "\n",
        "We shall import necessaries modules as follows\n",
        "\n",
        "---\n",
        "\n"
      ],
      "metadata": {
        "id": "YhjOPBDYkx_o"
      }
    },
    {
      "cell_type": "code",
      "execution_count": null,
      "metadata": {
        "colab": {
          "base_uri": "https://localhost:8080/"
        },
        "id": "LFe43Nt2z1nQ",
        "outputId": "6cdc0e86-9321-42dc-ff63-9e3ac2261405"
      },
      "outputs": [
        {
          "output_type": "stream",
          "name": "stderr",
          "text": [
            "[nltk_data] Downloading package stopwords to /root/nltk_data...\n",
            "[nltk_data]   Package stopwords is already up-to-date!\n"
          ]
        },
        {
          "output_type": "execute_result",
          "data": {
            "text/plain": [
              "True"
            ]
          },
          "metadata": {},
          "execution_count": 1
        }
      ],
      "source": [
        "import pandas as pd\n",
        "from sklearn import datasets\n",
        "from sklearn.model_selection import train_test_split\n",
        "from sklearn.neural_network import MLPClassifier\n",
        "from sklearn.preprocessing import LabelEncoder\n",
        "from sklearn.metrics import accuracy_score,cohen_kappa_score, precision_score, f1_score\n",
        "from keras.layers import LSTM, Activation, Dense, Dropout, Input, Embedding, SimpleRNN, Bidirectional\n",
        "import tensorflow as tf\n",
        "import matplotlib.pyplot as plt\n",
        "from keras.models import Model, Sequential\n",
        "from tensorflow import keras\n",
        "from keras.preprocessing.text import Tokenizer\n",
        "from keras.preprocessing.sequence import pad_sequences\n",
        "from keras import layers\n",
        "import nltk\n",
        "from nltk.corpus import stopwords\n",
        "from nltk.corpus import stopwords\n",
        "from nltk.tokenize import word_tokenize\n",
        "import io\n",
        "\n",
        "nltk.download('stopwords')\n",
        "nltk.download('punkt')"
      ]
    },
    {
      "cell_type": "code",
      "execution_count": null,
      "metadata": {
        "colab": {
          "base_uri": "https://localhost:8080/"
        },
        "id": "lpyhYqpL2hyS",
        "outputId": "d03509a1-3468-4385-93ba-be4120a8638c"
      },
      "outputs": [
        {
          "output_type": "stream",
          "name": "stderr",
          "text": [
            "[nltk_data] Downloading package stopwords to /root/nltk_data...\n",
            "[nltk_data]   Package stopwords is already up-to-date!\n"
          ]
        },
        {
          "output_type": "stream",
          "name": "stdout",
          "text": [
            "<class 'pandas.core.frame.DataFrame'>\n",
            "Index: 3000 entries, 1 to 3002\n",
            "Data columns (total 3 columns):\n",
            " #   Column    Non-Null Count  Dtype \n",
            "---  ------    --------------  ----- \n",
            " 0   review    3000 non-null   object\n",
            " 1   positive  3000 non-null   int64 \n",
            " 2   tokens    3000 non-null   object\n",
            "dtypes: int64(1), object(2)\n",
            "memory usage: 93.8+ KB\n",
            "None\n"
          ]
        },
        {
          "output_type": "stream",
          "name": "stderr",
          "text": [
            "<ipython-input-3-db630ab81395>:23: SettingWithCopyWarning: \n",
            "A value is trying to be set on a copy of a slice from a DataFrame.\n",
            "Try using .loc[row_indexer,col_indexer] = value instead\n",
            "\n",
            "See the caveats in the documentation: https://pandas.pydata.org/pandas-docs/stable/user_guide/indexing.html#returning-a-view-versus-a-copy\n",
            "  df['positive'] = df['positive'].astype(int)\n"
          ]
        }
      ],
      "source": [
        "from nltk import word_tokenize\n",
        "\n",
        "#-------------------------------Reading files---------------------------\n",
        "file1 = pd.read_csv('imdb_labelled.txt',  delimiter='\\t', quoting=3, header=None, names=['review', 'positive'])\n",
        "file2 = pd.read_csv('yelp_labelled.txt',  delimiter='\\t', quoting=3, header=None, names=['review', 'positive'])\n",
        "file3 = pd.read_csv('amazon_cells_labelled.txt',  delimiter='\\t', quoting=3, header=None, names=['review', 'positive'])\n",
        "df = pd.concat([file1, file2, file3], ignore_index=True)\n",
        "\n",
        "\n",
        "df['review'] = df['review'].str.lower()\n",
        "df['review'] = df['review'].str.replace('[^\\w\\s]', '')  # Delete special characters\n",
        "\n",
        "# [ Downloading stopwords ]\n",
        "nltk.download('stopwords')\n",
        "\n",
        "# [ Get stopwords list form english lang ]\n",
        "stop_words = set(stopwords.words('english'))\n",
        "\n",
        "# [ Tokenize and filter ]\n",
        "df['tokens'] = df['review'].apply(word_tokenize)\n",
        "df['tokens'] = df['tokens'].apply(lambda tokens: [word for word in tokens if word.lower() not in stop_words])\n",
        "\n",
        "df = df[df['positive'].isin(['0', '1'])]\n",
        "df['positive'] = df['positive'].astype(int)\n",
        "\n",
        "print(df.info())"
      ]
    },
    {
      "cell_type": "markdown",
      "source": [
        "\n",
        "\n",
        "---\n",
        "\n",
        "Now, we tokenize data so we can have arrays of words instead of plain text. We shall also remove irrelevant data\n",
        "\n",
        "---\n",
        "\n"
      ],
      "metadata": {
        "id": "AFN0DCVnlAJ8"
      }
    },
    {
      "cell_type": "code",
      "execution_count": null,
      "metadata": {
        "colab": {
          "base_uri": "https://localhost:8080/"
        },
        "id": "gYX7UggzES4z",
        "outputId": "36c22f5b-9c57-4ced-ecce-c8383c444824"
      },
      "outputs": [
        {
          "output_type": "stream",
          "name": "stderr",
          "text": [
            "[nltk_data] Downloading package stopwords to /root/nltk_data...\n",
            "[nltk_data]   Package stopwords is already up-to-date!\n"
          ]
        }
      ],
      "source": [
        "from nltk.tokenize import word_tokenize\n",
        "from nltk.corpus import stopwords\n",
        "\n",
        "df['review'] = df['review'].str.lower()\n",
        "df['review'] = df['review'].str.replace('[^\\w\\s]', '')\n",
        "df['tokens'] = df['review'].apply(word_tokenize)\n",
        "nltk.download('stopwords')\n",
        "stop_words = set(stopwords.words('english'))\n",
        "\n",
        "df['tokens'] = df['tokens'].apply(lambda tokens: [word for word in tokens if word.lower() not in stop_words])"
      ]
    },
    {
      "cell_type": "markdown",
      "metadata": {
        "id": "BWT8nZz1Pyg7"
      },
      "source": [
        "###Tokenized results"
      ]
    },
    {
      "cell_type": "code",
      "execution_count": null,
      "metadata": {
        "colab": {
          "base_uri": "https://localhost:8080/",
          "height": 424
        },
        "id": "lxQdSmFdFIBW",
        "outputId": "b72caf55-aaa9-4df2-e104-cc2154f3b6cf"
      },
      "outputs": [
        {
          "output_type": "execute_result",
          "data": {
            "text/plain": [
              "                                                 review  positive  \\\n",
              "1     a very, very, very slow-moving, aimless movie ...         0   \n",
              "2     not sure who was more lost - the flat characte...         0   \n",
              "3     attempting artiness with black & white and cle...         0   \n",
              "4          very little music or anything to speak of.           0   \n",
              "5     the best scene in the movie was when gerardo i...         1   \n",
              "...                                                 ...       ...   \n",
              "2997                              kind of flops around.         0   \n",
              "2998  the screen does get smudged easily because it ...         0   \n",
              "2999  what a piece of junk.. i lose more calls on th...         0   \n",
              "3000                       item does not match picture.         0   \n",
              "3001  the only thing that disappoint me is the infra...         0   \n",
              "\n",
              "                                                 tokens  \n",
              "1     [,, ,, slow-moving, ,, aimless, movie, distres...  \n",
              "2     [sure, lost, -, flat, characters, audience, ,,...  \n",
              "3     [attempting, artiness, black, &, white, clever...  \n",
              "4                   [little, music, anything, speak, .]  \n",
              "5     [best, scene, movie, gerardo, trying, find, so...  \n",
              "...                                                 ...  \n",
              "2997                           [kind, flops, around, .]  \n",
              "2998  [screen, get, smudged, easily, touches, ear, f...  \n",
              "2999           [piece, junk, .., lose, calls, phone, .]  \n",
              "3000                          [item, match, picture, .]  \n",
              "3001  [thing, disappoint, infra, red, port, (, irda,...  \n",
              "\n",
              "[2999 rows x 3 columns]"
            ],
            "text/html": [
              "\n",
              "  <div id=\"df-99e8f442-656a-422e-9f5e-c3b0a9e6f1a2\" class=\"colab-df-container\">\n",
              "    <div>\n",
              "<style scoped>\n",
              "    .dataframe tbody tr th:only-of-type {\n",
              "        vertical-align: middle;\n",
              "    }\n",
              "\n",
              "    .dataframe tbody tr th {\n",
              "        vertical-align: top;\n",
              "    }\n",
              "\n",
              "    .dataframe thead th {\n",
              "        text-align: right;\n",
              "    }\n",
              "</style>\n",
              "<table border=\"1\" class=\"dataframe\">\n",
              "  <thead>\n",
              "    <tr style=\"text-align: right;\">\n",
              "      <th></th>\n",
              "      <th>review</th>\n",
              "      <th>positive</th>\n",
              "      <th>tokens</th>\n",
              "    </tr>\n",
              "  </thead>\n",
              "  <tbody>\n",
              "    <tr>\n",
              "      <th>1</th>\n",
              "      <td>a very, very, very slow-moving, aimless movie ...</td>\n",
              "      <td>0</td>\n",
              "      <td>[,, ,, slow-moving, ,, aimless, movie, distres...</td>\n",
              "    </tr>\n",
              "    <tr>\n",
              "      <th>2</th>\n",
              "      <td>not sure who was more lost - the flat characte...</td>\n",
              "      <td>0</td>\n",
              "      <td>[sure, lost, -, flat, characters, audience, ,,...</td>\n",
              "    </tr>\n",
              "    <tr>\n",
              "      <th>3</th>\n",
              "      <td>attempting artiness with black &amp; white and cle...</td>\n",
              "      <td>0</td>\n",
              "      <td>[attempting, artiness, black, &amp;, white, clever...</td>\n",
              "    </tr>\n",
              "    <tr>\n",
              "      <th>4</th>\n",
              "      <td>very little music or anything to speak of.</td>\n",
              "      <td>0</td>\n",
              "      <td>[little, music, anything, speak, .]</td>\n",
              "    </tr>\n",
              "    <tr>\n",
              "      <th>5</th>\n",
              "      <td>the best scene in the movie was when gerardo i...</td>\n",
              "      <td>1</td>\n",
              "      <td>[best, scene, movie, gerardo, trying, find, so...</td>\n",
              "    </tr>\n",
              "    <tr>\n",
              "      <th>...</th>\n",
              "      <td>...</td>\n",
              "      <td>...</td>\n",
              "      <td>...</td>\n",
              "    </tr>\n",
              "    <tr>\n",
              "      <th>2997</th>\n",
              "      <td>kind of flops around.</td>\n",
              "      <td>0</td>\n",
              "      <td>[kind, flops, around, .]</td>\n",
              "    </tr>\n",
              "    <tr>\n",
              "      <th>2998</th>\n",
              "      <td>the screen does get smudged easily because it ...</td>\n",
              "      <td>0</td>\n",
              "      <td>[screen, get, smudged, easily, touches, ear, f...</td>\n",
              "    </tr>\n",
              "    <tr>\n",
              "      <th>2999</th>\n",
              "      <td>what a piece of junk.. i lose more calls on th...</td>\n",
              "      <td>0</td>\n",
              "      <td>[piece, junk, .., lose, calls, phone, .]</td>\n",
              "    </tr>\n",
              "    <tr>\n",
              "      <th>3000</th>\n",
              "      <td>item does not match picture.</td>\n",
              "      <td>0</td>\n",
              "      <td>[item, match, picture, .]</td>\n",
              "    </tr>\n",
              "    <tr>\n",
              "      <th>3001</th>\n",
              "      <td>the only thing that disappoint me is the infra...</td>\n",
              "      <td>0</td>\n",
              "      <td>[thing, disappoint, infra, red, port, (, irda,...</td>\n",
              "    </tr>\n",
              "  </tbody>\n",
              "</table>\n",
              "<p>2999 rows × 3 columns</p>\n",
              "</div>\n",
              "    <div class=\"colab-df-buttons\">\n",
              "\n",
              "  <div class=\"colab-df-container\">\n",
              "    <button class=\"colab-df-convert\" onclick=\"convertToInteractive('df-99e8f442-656a-422e-9f5e-c3b0a9e6f1a2')\"\n",
              "            title=\"Convert this dataframe to an interactive table.\"\n",
              "            style=\"display:none;\">\n",
              "\n",
              "  <svg xmlns=\"http://www.w3.org/2000/svg\" height=\"24px\" viewBox=\"0 -960 960 960\">\n",
              "    <path d=\"M120-120v-720h720v720H120Zm60-500h600v-160H180v160Zm220 220h160v-160H400v160Zm0 220h160v-160H400v160ZM180-400h160v-160H180v160Zm440 0h160v-160H620v160ZM180-180h160v-160H180v160Zm440 0h160v-160H620v160Z\"/>\n",
              "  </svg>\n",
              "    </button>\n",
              "\n",
              "  <style>\n",
              "    .colab-df-container {\n",
              "      display:flex;\n",
              "      gap: 12px;\n",
              "    }\n",
              "\n",
              "    .colab-df-convert {\n",
              "      background-color: #E8F0FE;\n",
              "      border: none;\n",
              "      border-radius: 50%;\n",
              "      cursor: pointer;\n",
              "      display: none;\n",
              "      fill: #1967D2;\n",
              "      height: 32px;\n",
              "      padding: 0 0 0 0;\n",
              "      width: 32px;\n",
              "    }\n",
              "\n",
              "    .colab-df-convert:hover {\n",
              "      background-color: #E2EBFA;\n",
              "      box-shadow: 0px 1px 2px rgba(60, 64, 67, 0.3), 0px 1px 3px 1px rgba(60, 64, 67, 0.15);\n",
              "      fill: #174EA6;\n",
              "    }\n",
              "\n",
              "    .colab-df-buttons div {\n",
              "      margin-bottom: 4px;\n",
              "    }\n",
              "\n",
              "    [theme=dark] .colab-df-convert {\n",
              "      background-color: #3B4455;\n",
              "      fill: #D2E3FC;\n",
              "    }\n",
              "\n",
              "    [theme=dark] .colab-df-convert:hover {\n",
              "      background-color: #434B5C;\n",
              "      box-shadow: 0px 1px 3px 1px rgba(0, 0, 0, 0.15);\n",
              "      filter: drop-shadow(0px 1px 2px rgba(0, 0, 0, 0.3));\n",
              "      fill: #FFFFFF;\n",
              "    }\n",
              "  </style>\n",
              "\n",
              "    <script>\n",
              "      const buttonEl =\n",
              "        document.querySelector('#df-99e8f442-656a-422e-9f5e-c3b0a9e6f1a2 button.colab-df-convert');\n",
              "      buttonEl.style.display =\n",
              "        google.colab.kernel.accessAllowed ? 'block' : 'none';\n",
              "\n",
              "      async function convertToInteractive(key) {\n",
              "        const element = document.querySelector('#df-99e8f442-656a-422e-9f5e-c3b0a9e6f1a2');\n",
              "        const dataTable =\n",
              "          await google.colab.kernel.invokeFunction('convertToInteractive',\n",
              "                                                    [key], {});\n",
              "        if (!dataTable) return;\n",
              "\n",
              "        const docLinkHtml = 'Like what you see? Visit the ' +\n",
              "          '<a target=\"_blank\" href=https://colab.research.google.com/notebooks/data_table.ipynb>data table notebook</a>'\n",
              "          + ' to learn more about interactive tables.';\n",
              "        element.innerHTML = '';\n",
              "        dataTable['output_type'] = 'display_data';\n",
              "        await google.colab.output.renderOutput(dataTable, element);\n",
              "        const docLink = document.createElement('div');\n",
              "        docLink.innerHTML = docLinkHtml;\n",
              "        element.appendChild(docLink);\n",
              "      }\n",
              "    </script>\n",
              "  </div>\n",
              "\n",
              "\n",
              "<div id=\"df-7aa3f2f7-e76e-4d2b-860e-e1dfef7c7d8e\">\n",
              "  <button class=\"colab-df-quickchart\" onclick=\"quickchart('df-7aa3f2f7-e76e-4d2b-860e-e1dfef7c7d8e')\"\n",
              "            title=\"Suggest charts\"\n",
              "            style=\"display:none;\">\n",
              "\n",
              "<svg xmlns=\"http://www.w3.org/2000/svg\" height=\"24px\"viewBox=\"0 0 24 24\"\n",
              "     width=\"24px\">\n",
              "    <g>\n",
              "        <path d=\"M19 3H5c-1.1 0-2 .9-2 2v14c0 1.1.9 2 2 2h14c1.1 0 2-.9 2-2V5c0-1.1-.9-2-2-2zM9 17H7v-7h2v7zm4 0h-2V7h2v10zm4 0h-2v-4h2v4z\"/>\n",
              "    </g>\n",
              "</svg>\n",
              "  </button>\n",
              "\n",
              "<style>\n",
              "  .colab-df-quickchart {\n",
              "      --bg-color: #E8F0FE;\n",
              "      --fill-color: #1967D2;\n",
              "      --hover-bg-color: #E2EBFA;\n",
              "      --hover-fill-color: #174EA6;\n",
              "      --disabled-fill-color: #AAA;\n",
              "      --disabled-bg-color: #DDD;\n",
              "  }\n",
              "\n",
              "  [theme=dark] .colab-df-quickchart {\n",
              "      --bg-color: #3B4455;\n",
              "      --fill-color: #D2E3FC;\n",
              "      --hover-bg-color: #434B5C;\n",
              "      --hover-fill-color: #FFFFFF;\n",
              "      --disabled-bg-color: #3B4455;\n",
              "      --disabled-fill-color: #666;\n",
              "  }\n",
              "\n",
              "  .colab-df-quickchart {\n",
              "    background-color: var(--bg-color);\n",
              "    border: none;\n",
              "    border-radius: 50%;\n",
              "    cursor: pointer;\n",
              "    display: none;\n",
              "    fill: var(--fill-color);\n",
              "    height: 32px;\n",
              "    padding: 0;\n",
              "    width: 32px;\n",
              "  }\n",
              "\n",
              "  .colab-df-quickchart:hover {\n",
              "    background-color: var(--hover-bg-color);\n",
              "    box-shadow: 0 1px 2px rgba(60, 64, 67, 0.3), 0 1px 3px 1px rgba(60, 64, 67, 0.15);\n",
              "    fill: var(--button-hover-fill-color);\n",
              "  }\n",
              "\n",
              "  .colab-df-quickchart-complete:disabled,\n",
              "  .colab-df-quickchart-complete:disabled:hover {\n",
              "    background-color: var(--disabled-bg-color);\n",
              "    fill: var(--disabled-fill-color);\n",
              "    box-shadow: none;\n",
              "  }\n",
              "\n",
              "  .colab-df-spinner {\n",
              "    border: 2px solid var(--fill-color);\n",
              "    border-color: transparent;\n",
              "    border-bottom-color: var(--fill-color);\n",
              "    animation:\n",
              "      spin 1s steps(1) infinite;\n",
              "  }\n",
              "\n",
              "  @keyframes spin {\n",
              "    0% {\n",
              "      border-color: transparent;\n",
              "      border-bottom-color: var(--fill-color);\n",
              "      border-left-color: var(--fill-color);\n",
              "    }\n",
              "    20% {\n",
              "      border-color: transparent;\n",
              "      border-left-color: var(--fill-color);\n",
              "      border-top-color: var(--fill-color);\n",
              "    }\n",
              "    30% {\n",
              "      border-color: transparent;\n",
              "      border-left-color: var(--fill-color);\n",
              "      border-top-color: var(--fill-color);\n",
              "      border-right-color: var(--fill-color);\n",
              "    }\n",
              "    40% {\n",
              "      border-color: transparent;\n",
              "      border-right-color: var(--fill-color);\n",
              "      border-top-color: var(--fill-color);\n",
              "    }\n",
              "    60% {\n",
              "      border-color: transparent;\n",
              "      border-right-color: var(--fill-color);\n",
              "    }\n",
              "    80% {\n",
              "      border-color: transparent;\n",
              "      border-right-color: var(--fill-color);\n",
              "      border-bottom-color: var(--fill-color);\n",
              "    }\n",
              "    90% {\n",
              "      border-color: transparent;\n",
              "      border-bottom-color: var(--fill-color);\n",
              "    }\n",
              "  }\n",
              "</style>\n",
              "\n",
              "  <script>\n",
              "    async function quickchart(key) {\n",
              "      const quickchartButtonEl =\n",
              "        document.querySelector('#' + key + ' button');\n",
              "      quickchartButtonEl.disabled = true;  // To prevent multiple clicks.\n",
              "      quickchartButtonEl.classList.add('colab-df-spinner');\n",
              "      try {\n",
              "        const charts = await google.colab.kernel.invokeFunction(\n",
              "            'suggestCharts', [key], {});\n",
              "      } catch (error) {\n",
              "        console.error('Error during call to suggestCharts:', error);\n",
              "      }\n",
              "      quickchartButtonEl.classList.remove('colab-df-spinner');\n",
              "      quickchartButtonEl.classList.add('colab-df-quickchart-complete');\n",
              "    }\n",
              "    (() => {\n",
              "      let quickchartButtonEl =\n",
              "        document.querySelector('#df-7aa3f2f7-e76e-4d2b-860e-e1dfef7c7d8e button');\n",
              "      quickchartButtonEl.style.display =\n",
              "        google.colab.kernel.accessAllowed ? 'block' : 'none';\n",
              "    })();\n",
              "  </script>\n",
              "</div>\n",
              "    </div>\n",
              "  </div>\n"
            ]
          },
          "metadata": {},
          "execution_count": 5
        }
      ],
      "source": [
        "df.head(-1)"
      ]
    },
    {
      "cell_type": "markdown",
      "source": [
        "**Training and testing sets of data**\n",
        "\n",
        "---\n",
        "\n",
        "Once we have pre-processed our data, we can divide it in train and tests sets\n",
        "\n",
        "---\n",
        "\n"
      ],
      "metadata": {
        "id": "5Pa4DLjJlMwD"
      }
    },
    {
      "cell_type": "code",
      "execution_count": null,
      "metadata": {
        "id": "wNvZ7UKZK7Me"
      },
      "outputs": [],
      "source": [
        "from keras.preprocessing.text import Tokenizer\n",
        "from keras.preprocessing.sequence import pad_sequences\n",
        "from keras.models import Sequential\n",
        "from keras.layers import Embedding, Flatten, Dense\n",
        "from sklearn.model_selection import train_test_split\n",
        "\n",
        "\n",
        "# X: Tokens\n",
        "X = df['tokens']\n",
        "\n",
        "# y: Positive\n",
        "y = df['positive']\n",
        "\n",
        "# Divide data in train and test sets\n",
        "X_train, X_test, y_train, y_test = train_test_split(X, y, test_size=0.2, random_state=42)\n",
        "\n",
        "# Initialize and set Tokenizer\n",
        "max_words = 1000  # número máximo de palabras a considerar\n",
        "tokenizer = Tokenizer(num_words=max_words)\n",
        "tokenizer.fit_on_texts(X_train)\n",
        "\n",
        "# Transform text into numeric sequences\n",
        "X_train_sequences = tokenizer.texts_to_sequences(X_train)\n",
        "X_test_sequences = tokenizer.texts_to_sequences(X_test)\n",
        "\n",
        "# Padding\n",
        "maxlen = max(len(seq) for seq in X_train_sequences)\n",
        "X_train_padded = pad_sequences(X_train_sequences, maxlen=maxlen)\n",
        "X_test_padded = pad_sequences(X_test_sequences, maxlen=maxlen)"
      ]
    },
    {
      "cell_type": "markdown",
      "metadata": {
        "id": "WFW_qksx3iab"
      },
      "source": [
        "##DummyClasifier\n"
      ]
    },
    {
      "cell_type": "markdown",
      "source": [
        "**Dummy Classifier: A Brief Definition**\n",
        "\n",
        "A dummy classifier is a simple and baseline model used in machine learning for benchmarking and comparison purposes. This classifier makes predictions using straightforward strategies, such as predicting the most frequent class or random guessing. While it lacks sophistication, a dummy classifier provides a baseline performance metric that more advanced models should surpass. It serves as a valuable tool for assessing the effectiveness of complex models and gauging whether they offer substantial improvements over basic, naive strategies."
      ],
      "metadata": {
        "id": "hUt5YEDNln5C"
      }
    },
    {
      "cell_type": "markdown",
      "source": [
        "\n",
        "\n",
        "---\n",
        "\n",
        "Lets define our Dummy Classifier to have an initial baseline\n",
        "\n",
        "---\n",
        "\n"
      ],
      "metadata": {
        "id": "1Hu9csgylsQ5"
      }
    },
    {
      "cell_type": "code",
      "execution_count": null,
      "metadata": {
        "colab": {
          "base_uri": "https://localhost:8080/"
        },
        "id": "2zAY5Pp63mwK",
        "outputId": "38611839-5bd6-4254-8551-7697bae84381"
      },
      "outputs": [
        {
          "output_type": "stream",
          "name": "stdout",
          "text": [
            "DummyClassifier Performance:\n",
            "Accuracy: 0.5283333333333333\n",
            "Precision: 0.5445544554455446\n",
            "Recall: 0.532258064516129\n",
            "F1 Score: 0.5383360522022839\n"
          ]
        }
      ],
      "source": [
        "from sklearn.dummy import DummyClassifier\n",
        "from sklearn.metrics import accuracy_score, precision_score, recall_score, f1_score\n",
        "\n",
        "# Implement DummyClassifier\n",
        "dummy_clf = DummyClassifier(strategy='uniform', random_state=1234)  # 'uniform' asigna clases al azar\n",
        "\n",
        "# Train DummyClassifier\n",
        "dummy_clf.fit(X_train, y_train)\n",
        "\n",
        "# Predict in the train set\n",
        "y_pred_dummy = dummy_clf.predict(X_test_padded)\n",
        "\n",
        "# Evaluate performance of the DummyClassifier\n",
        "accuracy = accuracy_score(y_test, y_pred_dummy)\n",
        "precision = precision_score(y_test, y_pred_dummy)\n",
        "recall = recall_score(y_test, y_pred_dummy)\n",
        "f1 = f1_score(y_test, y_pred_dummy)\n",
        "\n",
        "# Print results\n",
        "print(\"DummyClassifier Performance:\")\n",
        "print(f\"Accuracy: {accuracy}\")\n",
        "print(f\"Precision: {precision}\")\n",
        "print(f\"Recall: {recall}\")\n",
        "print(f\"F1 Score: {f1}\")"
      ]
    },
    {
      "cell_type": "markdown",
      "metadata": {
        "id": "IQ31aGrnvAax"
      },
      "source": [
        "##RNN"
      ]
    },
    {
      "cell_type": "markdown",
      "source": [
        "**Recurrent Neural Network (RNN): A Brief Definition**\n",
        "\n",
        "A Recurrent Neural Network (RNN) is a type of artificial neural network designed for sequential data processing. Unlike traditional feedforward neural networks, RNNs have connections that form directed cycles, allowing them to maintain a memory of previous inputs. This memory enables RNNs to effectively handle tasks involving sequences, such as natural language processing and time-series analysis. The recurrent connections enable information persistence, making RNNs well-suited for capturing temporal dependencies in data, a key feature in various machine learning applications."
      ],
      "metadata": {
        "id": "hM6UDWxZmKT3"
      }
    },
    {
      "cell_type": "markdown",
      "source": [
        "\n",
        "\n",
        "---\n",
        "\n",
        "Lets see how to implement this Neural Network with our current data\n",
        "\n",
        "---\n",
        "\n"
      ],
      "metadata": {
        "id": "SEaaBSEPmN3K"
      }
    },
    {
      "cell_type": "code",
      "execution_count": null,
      "metadata": {
        "id": "UdqEmN-bvvyS"
      },
      "outputs": [],
      "source": [
        "import pandas as pd\n",
        "from sklearn.model_selection import train_test_split\n",
        "from keras.preprocessing.text import Tokenizer\n",
        "from keras.preprocessing.sequence import pad_sequences\n",
        "from keras.models import Sequential\n",
        "from keras.layers import Embedding, SimpleRNN, Dense\n",
        "#from keras.utils import to_categorical\n",
        "from sklearn.metrics import accuracy_score, precision_score, recall_score, f1_score, cohen_kappa_score\n",
        "from sklearn.model_selection import GridSearchCV\n",
        "from keras.wrappers.scikit_learn import KerasClassifier\n",
        "\n",
        "\n",
        "# Define the base RNN model\n",
        "def create_rnn_model():\n",
        "    model = Sequential()\n",
        "    model.add(Embedding(max_words, 32, input_length=maxlen))\n",
        "    model.add(SimpleRNN(32, return_sequences=True))\n",
        "    model.add(SimpleRNN(32))\n",
        "    model.add(Dense(1, activation='sigmoid'))\n",
        "    model.compile(optimizer='adam', loss='binary_crossentropy', metrics=['accuracy'])\n",
        "    return model\n",
        "\n"
      ]
    },
    {
      "cell_type": "code",
      "execution_count": null,
      "metadata": {
        "id": "nGzJu1nGvyv0"
      },
      "outputs": [],
      "source": [
        "rnn_model = create_rnn_model()"
      ]
    },
    {
      "cell_type": "markdown",
      "source": [
        "\n",
        "\n",
        "---\n",
        "\n",
        "After creating the model, we shall train it with the refined data set\n",
        "\n",
        "---\n",
        "\n"
      ],
      "metadata": {
        "id": "dYIgznitmWFx"
      }
    },
    {
      "cell_type": "code",
      "execution_count": null,
      "metadata": {
        "colab": {
          "base_uri": "https://localhost:8080/"
        },
        "id": "HpwFZrHD4LDF",
        "outputId": "de6db392-b1ab-41e9-b2d0-d6ffda1f4701"
      },
      "outputs": [
        {
          "output_type": "stream",
          "name": "stdout",
          "text": [
            "Epoch 1/25\n",
            "19/19 [==============================] - 1s 43ms/step - loss: 0.0148 - accuracy: 0.9904 - val_loss: 2.1711 - val_accuracy: 0.6767\n",
            "Epoch 2/25\n",
            "19/19 [==============================] - 0s 25ms/step - loss: 0.0147 - accuracy: 0.9904 - val_loss: 2.1742 - val_accuracy: 0.6767\n",
            "Epoch 3/25\n",
            "19/19 [==============================] - 0s 24ms/step - loss: 0.0147 - accuracy: 0.9904 - val_loss: 2.1780 - val_accuracy: 0.6767\n",
            "Epoch 4/25\n",
            "19/19 [==============================] - 0s 24ms/step - loss: 0.0147 - accuracy: 0.9904 - val_loss: 2.1832 - val_accuracy: 0.6750\n",
            "Epoch 5/25\n",
            "19/19 [==============================] - 0s 24ms/step - loss: 0.0147 - accuracy: 0.9900 - val_loss: 2.1847 - val_accuracy: 0.6750\n",
            "Epoch 6/25\n",
            "19/19 [==============================] - 0s 24ms/step - loss: 0.0148 - accuracy: 0.9900 - val_loss: 2.1864 - val_accuracy: 0.6733\n",
            "Epoch 7/25\n",
            "19/19 [==============================] - 0s 24ms/step - loss: 0.0146 - accuracy: 0.9900 - val_loss: 2.1903 - val_accuracy: 0.6767\n",
            "Epoch 8/25\n",
            "19/19 [==============================] - 0s 24ms/step - loss: 0.0146 - accuracy: 0.9896 - val_loss: 2.1945 - val_accuracy: 0.6767\n",
            "Epoch 9/25\n",
            "19/19 [==============================] - 0s 26ms/step - loss: 0.0146 - accuracy: 0.9900 - val_loss: 2.1976 - val_accuracy: 0.6733\n",
            "Epoch 10/25\n",
            "19/19 [==============================] - 1s 27ms/step - loss: 0.0146 - accuracy: 0.9900 - val_loss: 2.2018 - val_accuracy: 0.6733\n",
            "Epoch 11/25\n",
            "19/19 [==============================] - 0s 23ms/step - loss: 0.0146 - accuracy: 0.9896 - val_loss: 2.2051 - val_accuracy: 0.6733\n",
            "Epoch 12/25\n",
            "19/19 [==============================] - 0s 24ms/step - loss: 0.0146 - accuracy: 0.9900 - val_loss: 2.2086 - val_accuracy: 0.6733\n",
            "Epoch 13/25\n",
            "19/19 [==============================] - 0s 24ms/step - loss: 0.0146 - accuracy: 0.9900 - val_loss: 2.2100 - val_accuracy: 0.6733\n",
            "Epoch 14/25\n",
            "19/19 [==============================] - 0s 23ms/step - loss: 0.0146 - accuracy: 0.9900 - val_loss: 2.2126 - val_accuracy: 0.6733\n",
            "Epoch 15/25\n",
            "19/19 [==============================] - 0s 23ms/step - loss: 0.0146 - accuracy: 0.9896 - val_loss: 2.2167 - val_accuracy: 0.6750\n",
            "Epoch 16/25\n",
            "19/19 [==============================] - 0s 24ms/step - loss: 0.0146 - accuracy: 0.9900 - val_loss: 2.2179 - val_accuracy: 0.6750\n",
            "Epoch 17/25\n",
            "19/19 [==============================] - 0s 25ms/step - loss: 0.0146 - accuracy: 0.9900 - val_loss: 2.2211 - val_accuracy: 0.6733\n",
            "Epoch 18/25\n",
            "19/19 [==============================] - 0s 25ms/step - loss: 0.0146 - accuracy: 0.9904 - val_loss: 2.2233 - val_accuracy: 0.6733\n",
            "Epoch 19/25\n",
            "19/19 [==============================] - 0s 23ms/step - loss: 0.0146 - accuracy: 0.9904 - val_loss: 2.2263 - val_accuracy: 0.6733\n",
            "Epoch 20/25\n",
            "19/19 [==============================] - 0s 24ms/step - loss: 0.0146 - accuracy: 0.9904 - val_loss: 2.2311 - val_accuracy: 0.6733\n",
            "Epoch 21/25\n",
            "19/19 [==============================] - 0s 24ms/step - loss: 0.0146 - accuracy: 0.9900 - val_loss: 2.2326 - val_accuracy: 0.6717\n",
            "Epoch 22/25\n",
            "19/19 [==============================] - 0s 24ms/step - loss: 0.0146 - accuracy: 0.9896 - val_loss: 2.2356 - val_accuracy: 0.6733\n",
            "Epoch 23/25\n",
            "19/19 [==============================] - 1s 33ms/step - loss: 0.0146 - accuracy: 0.9904 - val_loss: 2.2340 - val_accuracy: 0.6700\n",
            "Epoch 24/25\n",
            "19/19 [==============================] - 1s 40ms/step - loss: 0.0146 - accuracy: 0.9904 - val_loss: 2.2371 - val_accuracy: 0.6717\n",
            "Epoch 25/25\n",
            "19/19 [==============================] - 1s 39ms/step - loss: 0.0146 - accuracy: 0.9900 - val_loss: 2.2408 - val_accuracy: 0.6700\n"
          ]
        }
      ],
      "source": [
        "history = rnn_model.fit(X_train_padded, y_train, epochs=25, batch_size=128, validation_data=(X_test_padded, y_test))"
      ]
    },
    {
      "cell_type": "code",
      "source": [
        "y_pred = rnn_model.predict(X_test_padded)\n",
        "y_pred_binary = (y_pred > 0.5).astype(int)  # Transform into binary values (0 o 1)\n",
        "\n",
        "# Calculate performance metrics\n",
        "accuracy = accuracy_score(y_test, y_pred_binary)\n",
        "precision = precision_score(y_test, y_pred_binary)\n",
        "recall = recall_score(y_test, y_pred_binary)\n",
        "f1 = f1_score(y_test, y_pred_binary)\n",
        "kappa = cohen_kappa_score(y_test, y_pred_binary)\n",
        "\n",
        "print(f'Accuracy: {accuracy}')\n",
        "print(f'Precision: {precision}')\n",
        "print(f'Recall: {recall}')\n",
        "print(f'F1 Score: {f1}')\n",
        "print(f'Kappa Score: {kappa}')"
      ],
      "metadata": {
        "colab": {
          "base_uri": "https://localhost:8080/"
        },
        "id": "BQ1QozMayAUv",
        "outputId": "f37a8b76-8bd8-4f21-b889-aac8ce501a08"
      },
      "execution_count": null,
      "outputs": [
        {
          "output_type": "stream",
          "name": "stdout",
          "text": [
            "Accuracy: 0.67\n",
            "Precision: 0.6794871794871795\n",
            "Recall: 0.6838709677419355\n",
            "F1 Score: 0.6816720257234727\n",
            "Kappa Score: 0.3391188251001336\n"
          ]
        }
      ]
    },
    {
      "cell_type": "markdown",
      "source": [
        "###Accuracy vs Loss"
      ],
      "metadata": {
        "id": "FdefeL-YyeJy"
      }
    },
    {
      "cell_type": "markdown",
      "source": [
        "**Visualizing Loss and Accuracy Metrics: A Brief Insight**\n",
        "\n",
        "Visualizing loss and accuracy metrics during the training of a machine learning model provides a succinct and powerful means of understanding its performance. These metrics, commonly tracked throughout the training process, offer valuable insights into the model's behavior and effectiveness.\n",
        "\n"
      ],
      "metadata": {
        "id": "xhWB3yn_msDp"
      }
    },
    {
      "cell_type": "markdown",
      "source": [
        "\n",
        "\n",
        "---\n",
        "\n",
        "Lets create a graphic with these 2 metrics\n",
        "\n",
        "---\n",
        "\n"
      ],
      "metadata": {
        "id": "87I-vYdxnFPi"
      }
    },
    {
      "cell_type": "code",
      "execution_count": null,
      "metadata": {
        "colab": {
          "base_uri": "https://localhost:8080/"
        },
        "id": "DFUhZiGTRcBG",
        "outputId": "95609d6c-bd71-4912-b1f6-1d79d7503e74"
      },
      "outputs": [
        {
          "output_type": "stream",
          "name": "stdout",
          "text": [
            "6/6 [==============================] - 0s 7ms/step - loss: 2.2408 - accuracy: 0.6700\n",
            "Loss: 2.2408\n",
            "Accuracy: 67.00%\n"
          ]
        }
      ],
      "source": [
        "# Evaluate model with tests set\n",
        "loss, accuracy = rnn_model.evaluate(X_test_padded, y_test, batch_size=100)\n",
        "\n",
        "print(f'Loss: {loss:.4f}')\n",
        "print(f'Accuracy: {accuracy*100:.2f}%')"
      ]
    },
    {
      "cell_type": "code",
      "source": [
        "# Training history\n",
        "train_loss = history.history['loss']\n",
        "val_loss = history.history['val_loss']\n",
        "train_accuracy = history.history['accuracy']\n",
        "val_accuracy = history.history['val_accuracy']\n",
        "\n",
        "# Visualize loss\n",
        "plt.figure(figsize=(10, 5))\n",
        "plt.subplot(1, 2, 1)\n",
        "plt.plot(train_loss, label='Train Loss')\n",
        "plt.plot(val_loss, label='Validation Loss')\n",
        "plt.title('Training and Validation Loss')\n",
        "plt.xlabel('Epochs')\n",
        "plt.ylabel('Loss')\n",
        "plt.legend()\n",
        "\n",
        "# Visualize accuracy\n",
        "plt.subplot(1, 2, 2)\n",
        "plt.plot(train_accuracy, label='Train Accuracy')\n",
        "plt.plot(val_accuracy, label='Validation Accuracy')\n",
        "plt.title('Training and Validation Accuracy')\n",
        "plt.xlabel('Epochs')\n",
        "plt.ylabel('Accuracy')\n",
        "plt.legend()\n",
        "\n",
        "plt.tight_layout()\n",
        "plt.show()"
      ],
      "metadata": {
        "colab": {
          "base_uri": "https://localhost:8080/",
          "height": 507
        },
        "id": "Ag9dmIWspquG",
        "outputId": "74573c5d-18ec-4d8b-e22b-8e41ab01f5f9"
      },
      "execution_count": null,
      "outputs": [
        {
          "output_type": "display_data",
          "data": {
            "text/plain": [
              "<Figure size 1000x500 with 2 Axes>"
            ],
            "image/png": "[encoded data removed]"
          },
          "metadata": {}
        }
      ]
    },
    {
      "cell_type": "markdown",
      "source": [
        "###Hyperparameters tuning"
      ],
      "metadata": {
        "id": "G1ofbi5xqhxv"
      }
    },
    {
      "cell_type": "markdown",
      "source": [
        "**Hyperparameter Tuning: A Brief Overview**\n",
        "\n",
        "Hyperparameter tuning, often referred to as optimization, is a critical step in the development of machine learning models. While the model architecture is learned from the data during training, hyperparameters are external configurations that influence the learning process.  \n",
        "\n",
        "Hyperparameter tuning is a crucial phase that fine-tunes a model for optimal performance. By systematically exploring the hyperparameter space, practitioners aim to strike the right balance, ensuring the model generalizes well to new, unseen data."
      ],
      "metadata": {
        "id": "bYPQVQ9RnbYT"
      }
    },
    {
      "cell_type": "markdown",
      "source": [
        "\n",
        "\n",
        "---\n",
        "\n",
        "Lets do a tunning for the current hyperparameters\n",
        "\n",
        "---\n",
        "\n"
      ],
      "metadata": {
        "id": "pZ_9OsVbnlZm"
      }
    },
    {
      "cell_type": "code",
      "source": [
        "from sklearn.model_selection import GridSearchCV\n",
        "from keras.wrappers.scikit_learn import KerasClassifier\n",
        "\n",
        "# Create a KerasClassifier wrapper\n",
        "rnn_classifier = KerasClassifier(build_fn=create_rnn_model, verbose=0)\n",
        "\n",
        "# Tune hyperparameters using GridSearchCV\n",
        "param_grid = {\n",
        "    'epochs': [5, 25, 50],\n",
        "    'batch_size': [16, 64, 128]\n",
        "}\n",
        "\n",
        "grid_search = GridSearchCV(rnn_classifier, param_grid, scoring='accuracy', cv=5)\n",
        "grid_search.fit(X_train_padded, y_train)\n",
        "\n",
        "print('Best parameters:', grid_search.best_params_)\n",
        "print('Best score:', grid_search.best_score_)"
      ],
      "metadata": {
        "colab": {
          "base_uri": "https://localhost:8080/"
        },
        "id": "hoGEbSdjqm_j",
        "outputId": "d1afd33f-08ea-4213-abe0-2213c2382158"
      },
      "execution_count": null,
      "outputs": [
        {
          "output_type": "stream",
          "name": "stderr",
          "text": [
            "<ipython-input-39-36e43fc72950>:5: DeprecationWarning: KerasClassifier is deprecated, use Sci-Keras (https://github.com/adriangb/scikeras) instead. See https://www.adriangb.com/scikeras/stable/migration.html for help migrating.\n",
            "  rnn_classifier = KerasClassifier(build_fn=create_rnn_model, verbose=0)\n"
          ]
        },
        {
          "output_type": "stream",
          "name": "stdout",
          "text": [
            "Best parameters: {'batch_size': 16, 'epochs': 5}\n",
            "Best score: 0.72\n"
          ]
        }
      ]
    },
    {
      "cell_type": "markdown",
      "source": [
        "####Better results"
      ],
      "metadata": {
        "id": "l5F8cu_U6U6O"
      }
    },
    {
      "cell_type": "markdown",
      "source": [
        "\n",
        "\n",
        "---\n",
        "\n",
        "Once we get the results, we can apply it so we can see the effects on the prediction model\n",
        "\n",
        "---\n",
        "\n"
      ],
      "metadata": {
        "id": "t3y41jYYnr9M"
      }
    },
    {
      "cell_type": "code",
      "source": [
        "best_rnn_model = create_rnn_model()\n",
        "tunned_model = best_rnn_model.fit(X_train_padded, y_train, epochs=5, batch_size=16, validation_data=(X_test_padded, y_test))\n",
        "\n",
        "y_pred = best_rnn_model.predict(X_test_padded)\n",
        "y_pred_binary = (y_pred > 0.5).astype(int)  # Transform into binary values (0 o 1)\n",
        "\n",
        "# Calculate performance metrics\n",
        "accuracy = accuracy_score(y_test, y_pred_binary)\n",
        "precision = precision_score(y_test, y_pred_binary)\n",
        "recall = recall_score(y_test, y_pred_binary)\n",
        "f1 = f1_score(y_test, y_pred_binary)\n",
        "kappa = cohen_kappa_score(y_test, y_pred_binary)\n",
        "\n",
        "print(f'Accuracy: {accuracy}')\n",
        "print(f'Precision: {precision}')\n",
        "print(f'Recall: {recall}')\n",
        "print(f'F1 Score: {f1}')\n",
        "print(f'Kappa Score: {kappa}')"
      ],
      "metadata": {
        "colab": {
          "base_uri": "https://localhost:8080/"
        },
        "id": "JUJJN2o85x3P",
        "outputId": "28c843df-c53a-49e9-b116-74dc5f9b306f"
      },
      "execution_count": null,
      "outputs": [
        {
          "output_type": "stream",
          "name": "stdout",
          "text": [
            "Epoch 1/5\n",
            "150/150 [==============================] - 4s 17ms/step - loss: 0.6853 - accuracy: 0.5583 - val_loss: 0.6542 - val_accuracy: 0.6433\n",
            "Epoch 2/5\n",
            "150/150 [==============================] - 2s 15ms/step - loss: 0.4220 - accuracy: 0.8200 - val_loss: 0.5594 - val_accuracy: 0.7117\n",
            "Epoch 3/5\n",
            "150/150 [==============================] - 3s 21ms/step - loss: 0.1800 - accuracy: 0.9296 - val_loss: 0.6750 - val_accuracy: 0.7167\n",
            "Epoch 4/5\n",
            "150/150 [==============================] - 4s 27ms/step - loss: 0.1017 - accuracy: 0.9608 - val_loss: 0.7327 - val_accuracy: 0.7233\n",
            "Epoch 5/5\n",
            "150/150 [==============================] - 3s 23ms/step - loss: 0.0670 - accuracy: 0.9733 - val_loss: 0.9491 - val_accuracy: 0.7067\n",
            "Accuracy: 0.7066666666666667\n",
            "Precision: 0.768\n",
            "Recall: 0.6193548387096774\n",
            "F1 Score: 0.6857142857142857\n",
            "Kappa Score: 0.4165745856353592\n"
          ]
        }
      ]
    },
    {
      "cell_type": "markdown",
      "metadata": {
        "id": "EIAuhziQ3dfn"
      },
      "source": [
        "##LSTM"
      ]
    },
    {
      "cell_type": "markdown",
      "source": [
        "**Long Short-Term Memory (LSTM): A Brief Overview**\n",
        "\n",
        "LSTM, or Long Short-Term Memory, is a specialized type of recurrent neural network (RNN) architecture designed to address challenges in learning long-term dependencies within sequential data. Introduced to mitigate the vanishing gradient problem in traditional RNNs, LSTMs excel in capturing and retaining information over extended sequences. Key features of LSTMs include:\n",
        "\n",
        "1. **Memory Cells:**\n",
        "   - LSTMs incorporate memory cells that allow them to store and retrieve information selectively, enabling the model to maintain a more extended context of past observations.\n",
        "\n",
        "2. **Gating Mechanisms:**\n",
        "   - Gate structures, including input, forget, and output gates, regulate the flow of information in and out of the memory cells. This controlled flow helps prevent the vanishing or exploding gradient issues.\n",
        "\n",
        "3. **Sequential Learning:**\n",
        "   - LSTMs are particularly effective in scenarios where sequential patterns and dependencies are crucial, such as natural language processing, time-series analysis, and speech recognition.\n",
        "\n",
        "4. **Addressing Long-Term Dependencies:**\n",
        "   - The architecture of LSTMs facilitates learning dependencies over extended periods, making them well-suited for tasks that require an understanding of context beyond immediate observations.\n",
        "\n",
        "5. **Applications:**\n",
        "   - LSTMs find applications in a wide range of fields, including language modeling, sentiment analysis, machine translation, and financial time-series prediction.\n",
        "\n",
        "6. **Training Stability:**\n",
        "   - The gating mechanisms contribute to stable training, allowing LSTMs to learn complex patterns without suffering from the challenges that conventional RNNs often face.\n",
        "\n",
        "7. **State-of-the-Art Performance:**\n",
        "   - LSTMs, and their variants, have become state-of-the-art models in various applications, demonstrating superior performance in tasks that demand capturing intricate sequential dependencies.\n"
      ],
      "metadata": {
        "id": "RbRsBEXjn_N_"
      }
    },
    {
      "cell_type": "markdown",
      "source": [
        "\n",
        "\n",
        "---\n",
        "\n",
        "This is how we implement the LSTM with our reviews data.\n",
        "\n",
        "---\n",
        "\n"
      ],
      "metadata": {
        "id": "mTUkm-aZoC0G"
      }
    },
    {
      "cell_type": "code",
      "execution_count": null,
      "metadata": {
        "id": "cKJFNlZp2DXb"
      },
      "outputs": [],
      "source": [
        "def create_lstm_model():\n",
        "    model = Sequential()\n",
        "    model.add(Embedding(max_words, 32, input_length=maxlen))\n",
        "    model.add(LSTM(32))\n",
        "    model.add(Dropout(0.5))\n",
        "    model.add(Dense(1, activation='sigmoid'))\n",
        "\n",
        "    model.compile(optimizer='adam', loss='binary_crossentropy', metrics=['accuracy'])\n",
        "    return model\n"
      ]
    },
    {
      "cell_type": "code",
      "execution_count": null,
      "metadata": {
        "id": "zq7VqC7XGjIf"
      },
      "outputs": [],
      "source": [
        "lstm_model = create_lstm_model()"
      ]
    },
    {
      "cell_type": "code",
      "execution_count": null,
      "metadata": {
        "colab": {
          "base_uri": "https://localhost:8080/"
        },
        "id": "7M0E0qMrHdAZ",
        "outputId": "6ad672f5-5d1e-4307-9f12-550d50c0b101"
      },
      "outputs": [
        {
          "output_type": "stream",
          "name": "stdout",
          "text": [
            "Epoch 1/25\n",
            "75/75 [==============================] - 1s 15ms/step - loss: 0.0404 - accuracy: 0.9821 - val_loss: 1.6011 - val_accuracy: 0.7500\n",
            "Epoch 2/25\n",
            "75/75 [==============================] - 1s 15ms/step - loss: 0.0334 - accuracy: 0.9833 - val_loss: 1.6693 - val_accuracy: 0.7433\n",
            "Epoch 3/25\n",
            "75/75 [==============================] - 1s 15ms/step - loss: 0.0318 - accuracy: 0.9846 - val_loss: 1.6823 - val_accuracy: 0.7433\n",
            "Epoch 4/25\n",
            "75/75 [==============================] - 1s 15ms/step - loss: 0.0296 - accuracy: 0.9862 - val_loss: 1.7340 - val_accuracy: 0.7467\n",
            "Epoch 5/25\n",
            "75/75 [==============================] - 1s 14ms/step - loss: 0.0281 - accuracy: 0.9879 - val_loss: 1.8126 - val_accuracy: 0.7383\n",
            "Epoch 6/25\n",
            "75/75 [==============================] - 1s 14ms/step - loss: 0.0284 - accuracy: 0.9858 - val_loss: 1.8675 - val_accuracy: 0.7400\n",
            "Epoch 7/25\n",
            "75/75 [==============================] - 1s 19ms/step - loss: 0.0280 - accuracy: 0.9846 - val_loss: 1.8883 - val_accuracy: 0.7350\n",
            "Epoch 8/25\n",
            "75/75 [==============================] - 2s 22ms/step - loss: 0.0285 - accuracy: 0.9867 - val_loss: 1.9500 - val_accuracy: 0.7400\n",
            "Epoch 9/25\n",
            "75/75 [==============================] - 2s 22ms/step - loss: 0.0262 - accuracy: 0.9862 - val_loss: 2.0002 - val_accuracy: 0.7450\n",
            "Epoch 10/25\n",
            "75/75 [==============================] - 2s 23ms/step - loss: 0.0270 - accuracy: 0.9858 - val_loss: 2.0151 - val_accuracy: 0.7350\n",
            "Epoch 11/25\n",
            "75/75 [==============================] - 2s 22ms/step - loss: 0.0282 - accuracy: 0.9854 - val_loss: 2.0206 - val_accuracy: 0.7467\n",
            "Epoch 12/25\n",
            "75/75 [==============================] - 2s 23ms/step - loss: 0.0262 - accuracy: 0.9862 - val_loss: 2.0611 - val_accuracy: 0.7400\n",
            "Epoch 13/25\n",
            "75/75 [==============================] - 2s 23ms/step - loss: 0.0264 - accuracy: 0.9854 - val_loss: 2.1378 - val_accuracy: 0.7417\n",
            "Epoch 14/25\n",
            "75/75 [==============================] - 1s 19ms/step - loss: 0.0250 - accuracy: 0.9879 - val_loss: 2.1350 - val_accuracy: 0.7383\n",
            "Epoch 15/25\n",
            "75/75 [==============================] - 1s 15ms/step - loss: 0.0251 - accuracy: 0.9854 - val_loss: 2.2108 - val_accuracy: 0.7417\n",
            "Epoch 16/25\n",
            "75/75 [==============================] - 1s 14ms/step - loss: 0.0264 - accuracy: 0.9858 - val_loss: 2.2363 - val_accuracy: 0.7350\n",
            "Epoch 17/25\n",
            "75/75 [==============================] - 1s 14ms/step - loss: 0.0253 - accuracy: 0.9854 - val_loss: 2.2109 - val_accuracy: 0.7383\n",
            "Epoch 18/25\n",
            "75/75 [==============================] - 1s 14ms/step - loss: 0.0288 - accuracy: 0.9842 - val_loss: 2.2653 - val_accuracy: 0.7483\n",
            "Epoch 19/25\n",
            "75/75 [==============================] - 1s 15ms/step - loss: 0.0254 - accuracy: 0.9862 - val_loss: 2.2670 - val_accuracy: 0.7350\n",
            "Epoch 20/25\n",
            "75/75 [==============================] - 1s 14ms/step - loss: 0.0264 - accuracy: 0.9871 - val_loss: 2.2446 - val_accuracy: 0.7367\n",
            "Epoch 21/25\n",
            "75/75 [==============================] - 1s 15ms/step - loss: 0.0229 - accuracy: 0.9896 - val_loss: 2.2642 - val_accuracy: 0.7367\n",
            "Epoch 22/25\n",
            "75/75 [==============================] - 1s 15ms/step - loss: 0.0234 - accuracy: 0.9879 - val_loss: 2.3416 - val_accuracy: 0.7417\n",
            "Epoch 23/25\n",
            "75/75 [==============================] - 1s 17ms/step - loss: 0.0245 - accuracy: 0.9867 - val_loss: 2.3583 - val_accuracy: 0.7367\n",
            "Epoch 24/25\n",
            "75/75 [==============================] - 2s 22ms/step - loss: 0.0223 - accuracy: 0.9867 - val_loss: 2.3972 - val_accuracy: 0.7383\n",
            "Epoch 25/25\n",
            "75/75 [==============================] - 2s 23ms/step - loss: 0.0221 - accuracy: 0.9887 - val_loss: 2.4227 - val_accuracy: 0.7367\n"
          ]
        }
      ],
      "source": [
        "lstm_history = lstm_model.fit(X_train_padded, y_train, epochs=25, batch_size=32, validation_data=(X_test_padded, y_test))"
      ]
    },
    {
      "cell_type": "code",
      "source": [
        "y_pred = lstm_model.predict(X_test_padded)\n",
        "y_pred_binary = (y_pred > 0.5).astype(int)  # Transform into binary values (0 o 1)\n",
        "\n",
        "# Calculate performance metrics\n",
        "accuracy = accuracy_score(y_test, y_pred_binary)\n",
        "precision = precision_score(y_test, y_pred_binary)\n",
        "recall = recall_score(y_test, y_pred_binary)\n",
        "f1 = f1_score(y_test, y_pred_binary)\n",
        "kappa = cohen_kappa_score(y_test, y_pred_binary)\n",
        "\n",
        "print(f'Accuracy: {accuracy}')\n",
        "print(f'Precision: {precision}')\n",
        "print(f'Recall: {recall}')\n",
        "print(f'F1 Score: {f1}')\n",
        "print(f'Kappa Score: {kappa}')"
      ],
      "metadata": {
        "colab": {
          "base_uri": "https://localhost:8080/"
        },
        "id": "Y3ECHbuvyqu9",
        "outputId": "48b4053e-3d8d-4b71-eaca-7cb0994de472"
      },
      "execution_count": null,
      "outputs": [
        {
          "output_type": "stream",
          "name": "stdout",
          "text": [
            "Accuracy: 0.7366666666666667\n",
            "Precision: 0.7516556291390728\n",
            "Recall: 0.7322580645161291\n",
            "F1 Score: 0.741830065359477\n",
            "Kappa Score: 0.47321627028228497\n"
          ]
        }
      ]
    },
    {
      "cell_type": "markdown",
      "source": [
        "###Accuracy vs Loss"
      ],
      "metadata": {
        "id": "zqe8cBBrynqG"
      }
    },
    {
      "cell_type": "markdown",
      "source": [
        "\n",
        "\n",
        "---\n",
        "\n",
        "Lets create a graphic with these 2 metrics\n",
        "\n",
        "---\n",
        "\n"
      ],
      "metadata": {
        "id": "R4nch9i-oak6"
      }
    },
    {
      "cell_type": "code",
      "execution_count": null,
      "metadata": {
        "colab": {
          "base_uri": "https://localhost:8080/"
        },
        "id": "WDT2GprwNL6Z",
        "outputId": "b374b9bc-bc4f-4eee-ebe3-8e26eaf0ddd0"
      },
      "outputs": [
        {
          "output_type": "stream",
          "name": "stdout",
          "text": [
            "6/6 [==============================] - 0s 14ms/step - loss: 2.4227 - accuracy: 0.7367\n",
            "Loss: 2.4227\n",
            "Accuracy: 73.67%\n"
          ]
        }
      ],
      "source": [
        "# Evaluate model with tests set\n",
        "loss, accuracy = lstm_model.evaluate(X_test_padded, y_test, batch_size=100)\n",
        "\n",
        "print(f'Loss: {loss:.4f}')\n",
        "print(f'Accuracy: {accuracy*100:.2f}%')"
      ]
    },
    {
      "cell_type": "code",
      "execution_count": null,
      "metadata": {
        "colab": {
          "base_uri": "https://localhost:8080/",
          "height": 507
        },
        "id": "YIvbHuMSNS0p",
        "outputId": "9a2ffe4a-2ec7-4e8a-a296-ce442e5e1015"
      },
      "outputs": [
        {
          "output_type": "display_data",
          "data": {
            "text/plain": [
              "<Figure size 1000x500 with 2 Axes>"
            ],
            "image/png": "[encoded data removed]"
          },
          "metadata": {}
        }
      ],
      "source": [
        "# Training history\n",
        "train_loss = lstm_history.history['loss']\n",
        "val_loss = lstm_history.history['val_loss']\n",
        "train_accuracy = lstm_history.history['accuracy']\n",
        "val_accuracy = lstm_history.history['val_accuracy']\n",
        "\n",
        "# Visualize loss\n",
        "plt.figure(figsize=(10, 5))\n",
        "plt.subplot(1, 2, 1)\n",
        "plt.plot(train_loss, label='Train Loss')\n",
        "plt.plot(val_loss, label='Validation Loss')\n",
        "plt.title('Training and Validation Loss')\n",
        "plt.xlabel('Epochs')\n",
        "plt.ylabel('Loss')\n",
        "plt.legend()\n",
        "\n",
        "# Visualize accuracy\n",
        "plt.subplot(1, 2, 2)\n",
        "plt.plot(train_accuracy, label='Train Accuracy')\n",
        "plt.plot(val_accuracy, label='Validation Accuracy')\n",
        "plt.title('Training and Validation Accuracy')\n",
        "plt.xlabel('Epochs')\n",
        "plt.ylabel('Accuracy')\n",
        "plt.legend()\n",
        "\n",
        "plt.tight_layout()\n",
        "plt.show()"
      ]
    },
    {
      "cell_type": "markdown",
      "source": [
        "###Hyperparameters Tuning"
      ],
      "metadata": {
        "id": "5wWd5f4Grgo0"
      }
    },
    {
      "cell_type": "markdown",
      "source": [
        "\n",
        "\n",
        "---\n",
        "\n",
        "Lets do a tunning for the current hyperparameters. Now it is LSTM's turn to be improved\n",
        "\n",
        "---\n",
        "\n"
      ],
      "metadata": {
        "id": "rcUxBPLRofUB"
      }
    },
    {
      "cell_type": "code",
      "source": [
        "from sklearn.model_selection import GridSearchCV\n",
        "from keras.wrappers.scikit_learn import KerasClassifier\n",
        "\n",
        "# Create a KerasClassifier wrapper\n",
        "lstm_classifier = KerasClassifier(build_fn=create_lstm_model, verbose=0)\n",
        "\n",
        "# Tune hyperparameters using GridSearchCV\n",
        "param_grid = {\n",
        "    'epochs': [5, 25, 50],\n",
        "    'batch_size': [16, 32, 128]\n",
        "}\n",
        "\n",
        "grid_search = GridSearchCV(rnn_classifier, param_grid, scoring='accuracy', cv=5)\n",
        "grid_search.fit(X_train_padded, y_train)\n",
        "\n",
        "print('Best parameters:', grid_search.best_params_)\n",
        "print('Best score:', grid_search.best_score_)"
      ],
      "metadata": {
        "colab": {
          "base_uri": "https://localhost:8080/"
        },
        "id": "hiM3GxJlrl1W",
        "outputId": "5379019b-71ea-48e8-ab1a-e68e5ae9b2da"
      },
      "execution_count": null,
      "outputs": [
        {
          "output_type": "stream",
          "name": "stderr",
          "text": [
            "<ipython-input-23-1d922405595f>:5: DeprecationWarning: KerasClassifier is deprecated, use Sci-Keras (https://github.com/adriangb/scikeras) instead. See https://www.adriangb.com/scikeras/stable/migration.html for help migrating.\n",
            "  lstm_classifier = KerasClassifier(build_fn=create_lstm_model, verbose=0)\n"
          ]
        },
        {
          "output_type": "stream",
          "name": "stdout",
          "text": [
            "Best parameters: {'batch_size': 16, 'epochs': 5}\n",
            "Best score: 0.7175\n"
          ]
        }
      ]
    },
    {
      "cell_type": "markdown",
      "source": [
        "####Better results"
      ],
      "metadata": {
        "id": "-elWRwTfotLq"
      }
    },
    {
      "cell_type": "markdown",
      "source": [
        "\n",
        "\n",
        "---\n",
        "\n",
        "Once we get the results, we can apply it so we can see the effects on the prediction model\n",
        "\n",
        "---\n",
        "\n"
      ],
      "metadata": {
        "id": "W_ZDtzJQozkQ"
      }
    },
    {
      "cell_type": "code",
      "source": [
        "best_lstm_model = create_lstm_model()\n",
        "tunned_model = best_lstm_model.fit(X_train_padded, y_train, epochs=5, batch_size=16, validation_data=(X_test_padded, y_test))\n",
        "\n",
        "y_pred = best_lstm_model.predict(X_test_padded)\n",
        "y_pred_binary = (y_pred > 0.5).astype(int)  # Transform into binary values (0 o 1)\n",
        "\n",
        "# Calculate performance metrics\n",
        "accuracy = accuracy_score(y_test, y_pred_binary)\n",
        "precision = precision_score(y_test, y_pred_binary)\n",
        "recall = recall_score(y_test, y_pred_binary)\n",
        "f1 = f1_score(y_test, y_pred_binary)\n",
        "kappa = cohen_kappa_score(y_test, y_pred_binary)\n",
        "\n",
        "print(f'Accuracy: {accuracy}')\n",
        "print(f'Precision: {precision}')\n",
        "print(f'Recall: {recall}')\n",
        "print(f'F1 Score: {f1}')\n",
        "print(f'Kappa Score: {kappa}')"
      ],
      "metadata": {
        "colab": {
          "base_uri": "https://localhost:8080/"
        },
        "id": "dQj6F4al61Yq",
        "outputId": "c4dbff0d-8530-4882-b817-61dcc6c8aa14"
      },
      "execution_count": null,
      "outputs": [
        {
          "output_type": "stream",
          "name": "stdout",
          "text": [
            "Epoch 1/5\n",
            "150/150 [==============================] - 7s 17ms/step - loss: 0.6786 - accuracy: 0.5842 - val_loss: 0.6071 - val_accuracy: 0.7400\n",
            "Epoch 2/5\n",
            "150/150 [==============================] - 2s 13ms/step - loss: 0.4777 - accuracy: 0.7971 - val_loss: 0.4452 - val_accuracy: 0.7967\n",
            "Epoch 3/5\n",
            "150/150 [==============================] - 2s 13ms/step - loss: 0.3268 - accuracy: 0.8725 - val_loss: 0.4587 - val_accuracy: 0.7683\n",
            "Epoch 4/5\n",
            "150/150 [==============================] - 2s 13ms/step - loss: 0.2671 - accuracy: 0.8863 - val_loss: 0.4801 - val_accuracy: 0.7650\n",
            "Epoch 5/5\n",
            "150/150 [==============================] - 3s 20ms/step - loss: 0.2257 - accuracy: 0.9150 - val_loss: 0.5376 - val_accuracy: 0.7917\n",
            "Accuracy: 0.7916666666666666\n",
            "Precision: 0.7846153846153846\n",
            "Recall: 0.8225806451612904\n",
            "F1 Score: 0.8031496062992126\n",
            "Kappa Score: 0.5821727019498608\n"
          ]
        }
      ]
    },
    {
      "cell_type": "markdown",
      "source": [
        "##Conclusion\n",
        "\n",
        "In conclusion, neural networks applied to natural language processing have revolutionized how machines understand and generate text. The ability of neural networks to learn intricate patterns and capture semantic relationships has led to significant advances in tasks such as machine translation, sentiment analysis, and text generation. However, it is crucial to consider challenges, such as the need for massive datasets and model interpretability, as we explore both the potential and limitations of these technologies. Ongoing research and development in the field promise to take the application of neural networks in natural language processing to new heights, opening the door to a deeper and more contextual understanding of human language."
      ],
      "metadata": {
        "id": "GkWrbTuspEHi"
      }
    }
  ],
  "metadata": {
    "colab": {
      "provenance": []
    },
    "kernelspec": {
      "display_name": "Python 3",
      "name": "python3"
    },
    "language_info": {
      "name": "python"
    }
  },
  "nbformat": 4,
  "nbformat_minor": 0
}